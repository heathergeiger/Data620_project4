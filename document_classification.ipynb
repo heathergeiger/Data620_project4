{
 "cells": [
  {
   "cell_type": "markdown",
   "metadata": {
    "collapsed": true,
    "pycharm": {
     "name": "#%% md\n"
    }
   },
   "source": [
    "# Data 620: Week 10 Assignment\n",
    "\n",
    "Baron Curtin, Heather Geiger"
   ]
  },
  {
   "cell_type": "markdown",
   "metadata": {
    "pycharm": {
     "name": "#%% md\n"
    }
   },
   "source": [
    "## Introduction\n",
    "It can be useful to be able to classify new \"test\" documents using already classified \"training\" documents.  A common example is using a corpus of labeled spam and ham (non-spam) e-mails to predict whether or not a new document is spam.  Here is one example of such data:  UCI Machine Learning Repository: Spambase Data Set\n",
    "\n",
    "For this project, you can either use the above dataset to predict the class of new documents (either withheld from the training dataset or from another source such as your own spam folder).\n",
    "\n",
    "For more adventurous students, you are welcome (encouraged!) to come up a different set of documents (including scraped web pages!?) that have already been classified (e.g. tagged), then analyze these documents to predict how new documents should be classified."
   ]
  },
  {
   "cell_type": "code",
   "execution_count": 122,
   "metadata": {
    "pycharm": {
     "is_executing": false,
     "name": "#%%\n"
    }
   },
   "outputs": [],
   "source": [
    "from collections import Counter\n",
    "\n",
    "import numpy as np\n",
    "import pandas as pd\n",
    "import matplotlib.pyplot as plt\n",
    "import seaborn as sns\n",
    "import random\n",
    "from nltk.corpus import stopwords\n",
    "from sklearn.preprocessing import LabelEncoder\n",
    "from sklearn.feature_extraction.text import CountVectorizer, TfidfTransformer\n",
    "from sklearn.naive_bayes import MultinomialNB\n",
    "from sklearn.pipeline import Pipeline\n",
    "from sklearn.linear_model import SGDClassifier\n",
    "from sklearn.model_selection import GridSearchCV\n",
    "from sklearn.metrics import confusion_matrix\n",
    "\n",
    "# additional jupyter setup\n",
    "from IPython.core.interactiveshell import InteractiveShell\n",
    "InteractiveShell.ast_node_interactivity = \"all\"\n",
    "%matplotlib inline"
   ]
  },
  {
   "cell_type": "markdown",
   "metadata": {
    "pycharm": {
     "name": "#%% md\n"
    }
   },
   "source": [
    "Our dataset was taken from [Kaggle - SMS Spam Collection](https://www.kaggle.com/uciml/sms-spam-collection-dataset/download).\n",
    "It is called the SMS Spam Collection dataset and it consists of 5,574 English SMS message that have been labelled \"spam\" or \"ham\".\n",
    "The file contains one message per line. Each line is composed of two columns: the label, raw text.\n",
    "\n",
    "## Data Loading\n",
    "First we will load our data to begin building our Machine Learning Classifier."
   ]
  },
  {
   "cell_type": "code",
   "execution_count": 2,
   "metadata": {
    "pycharm": {
     "is_executing": false,
     "name": "#%%\n"
    }
   },
   "outputs": [
    {
     "data": {
      "text/html": [
       "<div>\n",
       "<style scoped>\n",
       "    .dataframe tbody tr th:only-of-type {\n",
       "        vertical-align: middle;\n",
       "    }\n",
       "\n",
       "    .dataframe tbody tr th {\n",
       "        vertical-align: top;\n",
       "    }\n",
       "\n",
       "    .dataframe thead th {\n",
       "        text-align: right;\n",
       "    }\n",
       "</style>\n",
       "<table border=\"1\" class=\"dataframe\">\n",
       "  <thead>\n",
       "    <tr style=\"text-align: right;\">\n",
       "      <th></th>\n",
       "      <th>v1</th>\n",
       "      <th>v2</th>\n",
       "      <th>Unnamed: 2</th>\n",
       "      <th>Unnamed: 3</th>\n",
       "      <th>Unnamed: 4</th>\n",
       "    </tr>\n",
       "  </thead>\n",
       "  <tbody>\n",
       "    <tr>\n",
       "      <th>0</th>\n",
       "      <td>ham</td>\n",
       "      <td>Go until jurong point, crazy.. Available only ...</td>\n",
       "      <td>NaN</td>\n",
       "      <td>NaN</td>\n",
       "      <td>NaN</td>\n",
       "    </tr>\n",
       "    <tr>\n",
       "      <th>1</th>\n",
       "      <td>ham</td>\n",
       "      <td>Ok lar... Joking wif u oni...</td>\n",
       "      <td>NaN</td>\n",
       "      <td>NaN</td>\n",
       "      <td>NaN</td>\n",
       "    </tr>\n",
       "    <tr>\n",
       "      <th>2</th>\n",
       "      <td>spam</td>\n",
       "      <td>Free entry in 2 a wkly comp to win FA Cup fina...</td>\n",
       "      <td>NaN</td>\n",
       "      <td>NaN</td>\n",
       "      <td>NaN</td>\n",
       "    </tr>\n",
       "    <tr>\n",
       "      <th>3</th>\n",
       "      <td>ham</td>\n",
       "      <td>U dun say so early hor... U c already then say...</td>\n",
       "      <td>NaN</td>\n",
       "      <td>NaN</td>\n",
       "      <td>NaN</td>\n",
       "    </tr>\n",
       "    <tr>\n",
       "      <th>4</th>\n",
       "      <td>ham</td>\n",
       "      <td>Nah I don't think he goes to usf, he lives aro...</td>\n",
       "      <td>NaN</td>\n",
       "      <td>NaN</td>\n",
       "      <td>NaN</td>\n",
       "    </tr>\n",
       "  </tbody>\n",
       "</table>\n",
       "</div>"
      ],
      "text/plain": [
       "     v1                                                 v2 Unnamed: 2  \\\n",
       "0   ham  Go until jurong point, crazy.. Available only ...        NaN   \n",
       "1   ham                      Ok lar... Joking wif u oni...        NaN   \n",
       "2  spam  Free entry in 2 a wkly comp to win FA Cup fina...        NaN   \n",
       "3   ham  U dun say so early hor... U c already then say...        NaN   \n",
       "4   ham  Nah I don't think he goes to usf, he lives aro...        NaN   \n",
       "\n",
       "  Unnamed: 3 Unnamed: 4  \n",
       "0        NaN        NaN  \n",
       "1        NaN        NaN  \n",
       "2        NaN        NaN  \n",
       "3        NaN        NaN  \n",
       "4        NaN        NaN  "
      ]
     },
     "execution_count": 2,
     "metadata": {},
     "output_type": "execute_result"
    }
   ],
   "source": [
    "data = pd.read_csv('./spam.csv', encoding='latin-1')\n",
    "data.head()"
   ]
  },
  {
   "cell_type": "markdown",
   "metadata": {
    "pycharm": {
     "name": "#%% md\n"
    }
   },
   "source": [
    "The last three columns are not useful to us and can safely be dropped"
   ]
  },
  {
   "cell_type": "code",
   "execution_count": 3,
   "metadata": {
    "pycharm": {
     "is_executing": false,
     "name": "#%%\n"
    }
   },
   "outputs": [
    {
     "data": {
      "text/html": [
       "<div>\n",
       "<style scoped>\n",
       "    .dataframe tbody tr th:only-of-type {\n",
       "        vertical-align: middle;\n",
       "    }\n",
       "\n",
       "    .dataframe tbody tr th {\n",
       "        vertical-align: top;\n",
       "    }\n",
       "\n",
       "    .dataframe thead th {\n",
       "        text-align: right;\n",
       "    }\n",
       "</style>\n",
       "<table border=\"1\" class=\"dataframe\">\n",
       "  <thead>\n",
       "    <tr style=\"text-align: right;\">\n",
       "      <th></th>\n",
       "      <th>v1</th>\n",
       "      <th>v2</th>\n",
       "    </tr>\n",
       "  </thead>\n",
       "  <tbody>\n",
       "    <tr>\n",
       "      <th>0</th>\n",
       "      <td>ham</td>\n",
       "      <td>Go until jurong point, crazy.. Available only ...</td>\n",
       "    </tr>\n",
       "    <tr>\n",
       "      <th>1</th>\n",
       "      <td>ham</td>\n",
       "      <td>Ok lar... Joking wif u oni...</td>\n",
       "    </tr>\n",
       "    <tr>\n",
       "      <th>2</th>\n",
       "      <td>spam</td>\n",
       "      <td>Free entry in 2 a wkly comp to win FA Cup fina...</td>\n",
       "    </tr>\n",
       "    <tr>\n",
       "      <th>3</th>\n",
       "      <td>ham</td>\n",
       "      <td>U dun say so early hor... U c already then say...</td>\n",
       "    </tr>\n",
       "    <tr>\n",
       "      <th>4</th>\n",
       "      <td>ham</td>\n",
       "      <td>Nah I don't think he goes to usf, he lives aro...</td>\n",
       "    </tr>\n",
       "  </tbody>\n",
       "</table>\n",
       "</div>"
      ],
      "text/plain": [
       "     v1                                                 v2\n",
       "0   ham  Go until jurong point, crazy.. Available only ...\n",
       "1   ham                      Ok lar... Joking wif u oni...\n",
       "2  spam  Free entry in 2 a wkly comp to win FA Cup fina...\n",
       "3   ham  U dun say so early hor... U c already then say...\n",
       "4   ham  Nah I don't think he goes to usf, he lives aro..."
      ]
     },
     "execution_count": 3,
     "metadata": {},
     "output_type": "execute_result"
    }
   ],
   "source": [
    "data = data.iloc[:,:2]\n",
    "data.head()"
   ]
  },
  {
   "cell_type": "markdown",
   "metadata": {
    "pycharm": {
     "name": "#%% md\n"
    }
   },
   "source": [
    "## Exploratory Data Analysis\n",
    "We will do some basic exploratory analysis to understand our data a bit better"
   ]
  },
  {
   "cell_type": "code",
   "execution_count": 4,
   "metadata": {
    "pycharm": {
     "is_executing": false,
     "name": "#%%\n"
    }
   },
   "outputs": [
    {
     "data": {
      "text/plain": [
       "<matplotlib.axes._subplots.AxesSubplot at 0x11d90ed30>"
      ]
     },
     "execution_count": 4,
     "metadata": {},
     "output_type": "execute_result"
    },
    {
     "data": {
      "text/plain": [
       "Text(0.5, 0, 'Label')"
      ]
     },
     "execution_count": 4,
     "metadata": {},
     "output_type": "execute_result"
    },
    {
     "data": {
      "text/plain": [
       "Text(0.5, 1.0, 'Spam vs Ham Messages')"
      ]
     },
     "execution_count": 4,
     "metadata": {},
     "output_type": "execute_result"
    },
    {
     "data": {
      "image/png": "[encoded data removed]",
      "text/plain": [
       "<Figure size 432x288 with 1 Axes>"
      ]
     },
     "metadata": {
      "needs_background": "light"
     },
     "output_type": "display_data"
    }
   ],
   "source": [
    "sns.countplot(data.v1)\n",
    "plt.xlabel('Label')\n",
    "plt.title('Spam vs Ham Messages')"
   ]
  },
  {
   "cell_type": "code",
   "execution_count": 5,
   "metadata": {
    "pycharm": {
     "is_executing": false,
     "name": "#%%\n"
    }
   },
   "outputs": [
    {
     "data": {
      "text/plain": [
       "ham     0.865937\n",
       "spam    0.134063\n",
       "Name: v1, dtype: float64"
      ]
     },
     "execution_count": 5,
     "metadata": {},
     "output_type": "execute_result"
    },
    {
     "data": {
      "text/plain": [
       "<matplotlib.axes._subplots.AxesSubplot at 0x1a2071ffd0>"
      ]
     },
     "execution_count": 5,
     "metadata": {},
     "output_type": "execute_result"
    },
    {
     "data": {
      "text/plain": [
       "Text(0.5, 1.0, 'Spam vs Ham Messages 5')"
      ]
     },
     "execution_count": 5,
     "metadata": {},
     "output_type": "execute_result"
    },
    {
     "data": {
      "text/plain": [
       "Text(0.5, 0, 'Label')"
      ]
     },
     "execution_count": 5,
     "metadata": {},
     "output_type": "execute_result"
    },
    {
     "data": {
      "image/png": "[encoded data removed]",
      "text/plain": [
       "<Figure size 432x288 with 1 Axes>"
      ]
     },
     "metadata": {
      "needs_background": "light"
     },
     "output_type": "display_data"
    }
   ],
   "source": [
    "data.v1.value_counts(normalize=True)\n",
    "\n",
    "data.v1.value_counts(normalize=True).plot(kind='bar', color=['blue','orange'])\n",
    "plt.title('Spam vs Ham Messages')\n",
    "plt.xlabel('Label')"
   ]
  },
  {
   "cell_type": "markdown",
   "metadata": {
    "pycharm": {
     "name": "#%% md\n"
    }
   },
   "source": [
    "We can see that spam messages comprise only ~13% of the dataset and ~87% represent \"ham\" messages. We can continue our\n",
    "exploration by analyzing the frequency of words in each dataset"
   ]
  },
  {
   "cell_type": "code",
   "execution_count": 5,
   "metadata": {
    "pycharm": {
     "is_executing": false,
     "name": "#%%\n"
    }
   },
   "outputs": [
    {
     "data": {
      "text/html": [
       "<div>\n",
       "<style scoped>\n",
       "    .dataframe tbody tr th:only-of-type {\n",
       "        vertical-align: middle;\n",
       "    }\n",
       "\n",
       "    .dataframe tbody tr th {\n",
       "        vertical-align: top;\n",
       "    }\n",
       "\n",
       "    .dataframe thead th {\n",
       "        text-align: right;\n",
       "    }\n",
       "</style>\n",
       "<table border=\"1\" class=\"dataframe\">\n",
       "  <thead>\n",
       "    <tr style=\"text-align: right;\">\n",
       "      <th></th>\n",
       "      <th>word</th>\n",
       "      <th>ct</th>\n",
       "      <th>type</th>\n",
       "    </tr>\n",
       "  </thead>\n",
       "  <tbody>\n",
       "    <tr>\n",
       "      <th>36</th>\n",
       "      <td>i</td>\n",
       "      <td>2172</td>\n",
       "      <td>ham</td>\n",
       "    </tr>\n",
       "    <tr>\n",
       "      <th>105</th>\n",
       "      <td>you</td>\n",
       "      <td>1665</td>\n",
       "      <td>ham</td>\n",
       "    </tr>\n",
       "    <tr>\n",
       "      <th>41</th>\n",
       "      <td>to</td>\n",
       "      <td>1544</td>\n",
       "      <td>ham</td>\n",
       "    </tr>\n",
       "    <tr>\n",
       "      <th>101</th>\n",
       "      <td>the</td>\n",
       "      <td>1113</td>\n",
       "      <td>ham</td>\n",
       "    </tr>\n",
       "    <tr>\n",
       "      <th>117</th>\n",
       "      <td>a</td>\n",
       "      <td>1046</td>\n",
       "      <td>ham</td>\n",
       "    </tr>\n",
       "  </tbody>\n",
       "</table>\n",
       "</div>"
      ],
      "text/plain": [
       "    word    ct type\n",
       "36     i  2172  ham\n",
       "105  you  1665  ham\n",
       "41    to  1544  ham\n",
       "101  the  1113  ham\n",
       "117    a  1046  ham"
      ]
     },
     "execution_count": 5,
     "metadata": {},
     "output_type": "execute_result"
    }
   ],
   "source": [
    "def join_n_split(my_df, msg_type):\n",
    "    # filter dataframe based on msg type\n",
    "    filtered_msgs = my_df[my_df['v1'] == msg_type]\n",
    "    series = filtered_msgs['v2']\n",
    "    # lowercase first then join together\n",
    "    lcase = series.str.lower()\n",
    "    return lcase.str.cat(sep=' ').split()\n",
    "\n",
    "count_ham = Counter(join_n_split(data, 'ham'))\n",
    "count_spam = Counter(join_n_split(data, 'spam'))\n",
    "\n",
    "df_ham = pd.DataFrame.from_dict(count_ham, orient='index').reset_index()\n",
    "df_ham.columns = ['word', 'ct']\n",
    "df_ham['type'] = 'ham'\n",
    "\n",
    "df_spam = pd.DataFrame.from_dict(count_spam, orient='index').reset_index()\n",
    "df_spam.columns = ['word', 'ct']\n",
    "df_spam['type'] = 'spam'\n",
    "\n",
    "# union the dataframes\n",
    "df = pd.concat([df_ham, df_spam], ignore_index=True).sort_values('ct', ascending=False)\n",
    "df.head()\n"
   ]
  },
  {
   "cell_type": "code",
   "execution_count": 6,
   "metadata": {
    "pycharm": {
     "is_executing": false,
     "name": "#%%\n"
    }
   },
   "outputs": [
    {
     "name": "stderr",
     "output_type": "stream",
     "text": [
      "/Library/Frameworks/Python.framework/Versions/3.7/lib/python3.7/site-packages/seaborn/axisgrid.py:715: UserWarning: Using the barplot function without specifying `order` is likely to produce an incorrect plot.\n",
      "  warnings.warn(warning)\n"
     ]
    },
    {
     "data": {
      "text/plain": [
       "<seaborn.axisgrid.FacetGrid at 0x11dae60b8>"
      ]
     },
     "execution_count": 6,
     "metadata": {},
     "output_type": "execute_result"
    },
    {
     "data": {
      "text/plain": [
       "[Text(0, 0, 'i'),\n",
       " Text(1, 0, 'you'),\n",
       " Text(2, 0, 'to'),\n",
       " Text(3, 0, 'the'),\n",
       " Text(4, 0, 'a'),\n",
       " Text(5, 0, 'u'),\n",
       " Text(6, 0, 'and'),\n",
       " Text(7, 0, 'in'),\n",
       " Text(8, 0, 'my'),\n",
       " Text(9, 0, 'is')]"
      ]
     },
     "execution_count": 6,
     "metadata": {},
     "output_type": "execute_result"
    },
    {
     "data": {
      "text/plain": [
       "[Text(0, 0, 'to'),\n",
       " Text(1, 0, 'a'),\n",
       " Text(2, 0, 'call'),\n",
       " Text(3, 0, 'your'),\n",
       " Text(4, 0, 'you'),\n",
       " Text(5, 0, 'the'),\n",
       " Text(6, 0, 'for'),\n",
       " Text(7, 0, 'or'),\n",
       " Text(8, 0, 'free'),\n",
       " Text(9, 0, '2')]"
      ]
     },
     "execution_count": 6,
     "metadata": {},
     "output_type": "execute_result"
    },
    {
     "data": {
      "image/png": "[encoded data removed]",
      "text/plain": [
       "<Figure size 432x216 with 2 Axes>"
      ]
     },
     "metadata": {
      "needs_background": "light"
     },
     "output_type": "display_data"
    }
   ],
   "source": [
    "def get_top_x(my_df, x, msg_type):\n",
    "    df_ = my_df[my_df['type'] == msg_type]\n",
    "    return df_.sort_values('ct', ascending=False).head(x)\n",
    "\n",
    "top_10_ham = get_top_x(df, 10, 'ham')\n",
    "top_10_spam = get_top_x(df, 10, 'spam')\n",
    "\n",
    "cond_plot = sns.FacetGrid(data=pd.concat([top_10_ham, top_10_spam], ignore_index=True), col='type', sharex=False)\n",
    "cond_plot.map(sns.barplot, 'word', 'ct')\n",
    "for ax in cond_plot.axes.ravel():\n",
    "    ax.set_xticklabels(ax.get_xticklabels(), rotation=90)\n"
   ]
  },
  {
   "cell_type": "markdown",
   "metadata": {
    "pycharm": {
     "name": "#%% md\n"
    }
   },
   "source": [
    "From the above, we can see that the top 10 most common words amongst both classes are stop words. We can use sklearn's built-in\n",
    "stop words feature to remove those from our features, but we can get a preview of what our data looks like without the stopwords"
   ]
  },
  {
   "cell_type": "code",
   "execution_count": 7,
   "metadata": {
    "pycharm": {
     "is_executing": false,
     "name": "#%%\n"
    }
   },
   "outputs": [
    {
     "name": "stderr",
     "output_type": "stream",
     "text": [
      "[nltk_data] Downloading package stopwords to\n",
      "[nltk_data]     /Users/hmgeiger/nltk_data...\n",
      "[nltk_data]   Unzipping corpora/stopwords.zip.\n"
     ]
    },
    {
     "data": {
      "text/plain": [
       "True"
      ]
     },
     "execution_count": 7,
     "metadata": {},
     "output_type": "execute_result"
    },
    {
     "data": {
      "text/plain": [
       "<seaborn.axisgrid.FacetGrid at 0x11dbd89b0>"
      ]
     },
     "execution_count": 7,
     "metadata": {},
     "output_type": "execute_result"
    },
    {
     "data": {
      "text/plain": [
       "[Text(0, 0, 'u'),\n",
       " Text(1, 0, \"i'm\"),\n",
       " Text(2, 0, 'get'),\n",
       " Text(3, 0, '2'),\n",
       " Text(4, 0, '&lt;#&gt;'),\n",
       " Text(5, 0, 'ur'),\n",
       " Text(6, 0, 'go'),\n",
       " Text(7, 0, 'got'),\n",
       " Text(8, 0, '.'),\n",
       " Text(9, 0, 'like'),\n",
       " Text(10, 0, 'come'),\n",
       " Text(11, 0, 'call'),\n",
       " Text(12, 0, 'know'),\n",
       " Text(13, 0, 'good'),\n",
       " Text(14, 0, '?'),\n",
       " Text(15, 0, \"i'll\"),\n",
       " Text(16, 0, '...'),\n",
       " Text(17, 0, 'going'),\n",
       " Text(18, 0, '4'),\n",
       " Text(19, 0, 'ok')]"
      ]
     },
     "execution_count": 7,
     "metadata": {},
     "output_type": "execute_result"
    },
    {
     "data": {
      "text/plain": [
       "[Text(0, 0, 'call'),\n",
       " Text(1, 0, 'free'),\n",
       " Text(2, 0, '2'),\n",
       " Text(3, 0, 'ur'),\n",
       " Text(4, 0, 'txt'),\n",
       " Text(5, 0, 'u'),\n",
       " Text(6, 0, 'text'),\n",
       " Text(7, 0, 'mobile'),\n",
       " Text(8, 0, 'claim'),\n",
       " Text(9, 0, 'reply'),\n",
       " Text(10, 0, '&'),\n",
       " Text(11, 0, '4'),\n",
       " Text(12, 0, 'stop'),\n",
       " Text(13, 0, 'get'),\n",
       " Text(14, 0, 'now!'),\n",
       " Text(15, 0, 'new'),\n",
       " Text(16, 0, 'send'),\n",
       " Text(17, 0, 'nokia'),\n",
       " Text(18, 0, 'prize'),\n",
       " Text(19, 0, 'win')]"
      ]
     },
     "execution_count": 7,
     "metadata": {},
     "output_type": "execute_result"
    },
    {
     "data": {
      "image/png": "[encoded data removed]",
      "text/plain": [
       "<Figure size 432x216 with 2 Axes>"
      ]
     },
     "metadata": {
      "needs_background": "light"
     },
     "output_type": "display_data"
    }
   ],
   "source": [
    "import nltk\n",
    "nltk.download('stopwords')\n",
    "stop_words = set(stopwords.words('english'))\n",
    "\n",
    "# remove stop words\n",
    "def remove_stopwords(my_df, col):\n",
    "    df_ = my_df[~my_df[col].isin(stop_words)]\n",
    "    return df_\n",
    "\n",
    "no_stop_words = remove_stopwords(df, 'word')\n",
    "\n",
    "# create visualizations\n",
    "top_20_ham = get_top_x(no_stop_words, 20, 'ham')\n",
    "top_20_spam = get_top_x(no_stop_words, 20, 'spam')\n",
    "\n",
    "cond_plot = sns.FacetGrid(data=pd.concat([top_20_ham, top_20_spam], ignore_index=True), col='type', sharex=False)\n",
    "cond_plot.map(sns.barplot, 'word', 'ct')\n",
    "for ax in cond_plot.axes.ravel():\n",
    "    ax.set_xticklabels(ax.get_xticklabels(), rotation=90)"
   ]
  },
  {
   "cell_type": "markdown",
   "metadata": {
    "pycharm": {
     "name": "#%% md\n"
    }
   },
   "source": [
    "From the above charts, there is a clear distinction between what is usually found in a spam message as opposed to a ham message.\n",
    "This will be captured in our models.\n",
    "\n",
    "\n",
    "## Feature Engineering/Pipeline\n",
    "In the next few steps, we will be using sklearn's pipeline feature to create our features, remove stop words, and fit the data\n",
    "to our model. We intend to use multiple models to see which performs best.\n",
    "\n",
    "Start by separating the text from the labels, and also create a 70/30 training test split.\n",
    "\n",
    "Also convert the labels to a Numpy array."
   ]
  },
  {
   "cell_type": "code",
   "execution_count": 171,
   "metadata": {
    "pycharm": {
     "is_executing": false,
     "name": "#%% encode our labels\n"
    }
   },
   "outputs": [],
   "source": [
    "X = pd.Series.tolist(data.v2)\n",
    "y = pd.Series.tolist(data.v1)\n",
    "\n",
    "x_and_y = [(x,y) for x,y in zip(X,y)]\n",
    "\n",
    "random.seed(1392)\n",
    "random.shuffle(x_and_y)\n",
    "\n",
    "y_train = [y for x,y in x_and_y[0:3900]]\n",
    "y_test = [y for x,y in x_and_y[3900:]]"
   ]
  },
  {
   "cell_type": "code",
   "execution_count": 172,
   "metadata": {},
   "outputs": [],
   "source": [
    "le = LabelEncoder()\n",
    "\n",
    "y_train = le.fit_transform(y_train)\n",
    "y_test = le.fit_transform(y_test)"
   ]
  },
  {
   "cell_type": "markdown",
   "metadata": {},
   "source": [
    "Get text frequencies for the training and test data."
   ]
  },
  {
   "cell_type": "code",
   "execution_count": 173,
   "metadata": {},
   "outputs": [],
   "source": [
    "count_vect = CountVectorizer(stop_words='english')\n",
    "tfidf_transformer = TfidfTransformer()"
   ]
  },
  {
   "cell_type": "code",
   "execution_count": 174,
   "metadata": {},
   "outputs": [],
   "source": [
    "X_counts = count_vect.fit_transform([x for x,y in x_and_y])\n",
    "X_tfidf = tfidf_transformer.fit_transform(X_counts)\n",
    "\n",
    "X_tfidf_train = X_tfidf[0:3900,]\n",
    "X_tfidf_test = X_tfidf[3900:,]"
   ]
  },
  {
   "cell_type": "markdown",
   "metadata": {},
   "source": [
    "Train a naive Bayes model using the training data."
   ]
  },
  {
   "cell_type": "code",
   "execution_count": 175,
   "metadata": {},
   "outputs": [],
   "source": [
    "clf = MultinomialNB().fit(X_tfidf_train,y_train.ravel())"
   ]
  },
  {
   "cell_type": "markdown",
   "metadata": {},
   "source": [
    "Get accuracy within the training data and on the test data."
   ]
  },
  {
   "cell_type": "code",
   "execution_count": 176,
   "metadata": {},
   "outputs": [],
   "source": [
    "predicted_train = clf.predict(X_tfidf_train)\n",
    "predicted_test = clf.predict(X_tfidf_test)"
   ]
  },
  {
   "cell_type": "code",
   "execution_count": 178,
   "metadata": {},
   "outputs": [
    {
     "data": {
      "text/plain": [
       "0.9784615384615385"
      ]
     },
     "execution_count": 178,
     "metadata": {},
     "output_type": "execute_result"
    },
    {
     "data": {
      "text/plain": [
       "0.9700956937799043"
      ]
     },
     "execution_count": 178,
     "metadata": {},
     "output_type": "execute_result"
    }
   ],
   "source": [
    "def flatten_nested(l):\n",
    "    return [item for sublist in np.ndarray.tolist(l.reshape(-1,1)) for item in sublist]\n",
    "\n",
    "[x == y for x,y in zip(flatten_nested(predicted_train),flatten_nested(y_train))].count(True)/len(y_train)\n",
    "[x == y for x,y in zip(flatten_nested(predicted_test),flatten_nested(y_test))].count(True)/len(y_test)"
   ]
  },
  {
   "cell_type": "markdown",
   "metadata": {},
   "source": [
    "Accuracy is already quite good! 98% on the training data, 97% on the test data.\n",
    "\n",
    "Let's just see if we can improve even more, though.\n",
    "\n",
    "We'll try using a linear support vector machine (SVM) instead of a naive Bayes model.\n",
    "\n",
    "Parameters loss, penalty, and alpha are set to defaults here.\n",
    "\n",
    "Random state just sets the seed.\n",
    "\n",
    "Set tol to None to require going through all iterations."
   ]
  },
  {
   "cell_type": "code",
   "execution_count": 179,
   "metadata": {},
   "outputs": [],
   "source": [
    "svm_classifier = SGDClassifier(loss='hinge',penalty='l2',alpha=0.0001,random_state=1392,tol=None)"
   ]
  },
  {
   "cell_type": "code",
   "execution_count": 181,
   "metadata": {},
   "outputs": [],
   "source": [
    "clf = svm_classifier.fit(X_tfidf_train,y_train)"
   ]
  },
  {
   "cell_type": "code",
   "execution_count": 182,
   "metadata": {},
   "outputs": [],
   "source": [
    "predicted_train = clf.predict(X_tfidf_train)\n",
    "predicted_test = clf.predict(X_tfidf_test)"
   ]
  },
  {
   "cell_type": "code",
   "execution_count": 183,
   "metadata": {},
   "outputs": [
    {
     "data": {
      "text/plain": [
       "0.9994871794871795"
      ]
     },
     "execution_count": 183,
     "metadata": {},
     "output_type": "execute_result"
    },
    {
     "data": {
      "text/plain": [
       "0.9814593301435407"
      ]
     },
     "execution_count": 183,
     "metadata": {},
     "output_type": "execute_result"
    }
   ],
   "source": [
    "[x == y for x,y in zip(flatten_nested(predicted_train),flatten_nested(y_train))].count(True)/len(y_train)\n",
    "[x == y for x,y in zip(flatten_nested(predicted_test),flatten_nested(y_test))].count(True)/len(y_test)"
   ]
  },
  {
   "cell_type": "markdown",
   "metadata": {},
   "source": [
    "Accuracy using linear SVM is even better! 99.9% on the training data and 98% on the test data.\n",
    "\n",
    "Let's print the confusion matrix for the test data."
   ]
  },
  {
   "cell_type": "code",
   "execution_count": 184,
   "metadata": {},
   "outputs": [
    {
     "data": {
      "text/plain": [
       "array([[1451,    4],\n",
       "       [  27,  190]])"
      ]
     },
     "execution_count": 184,
     "metadata": {},
     "output_type": "execute_result"
    }
   ],
   "source": [
    "confusion_matrix(y_true = y_test,y_pred = predicted_test,labels=[0,1])"
   ]
  },
  {
   "cell_type": "markdown",
   "metadata": {},
   "source": [
    "Looks like the majority of errors are false negatives (letting spam past the filter by mis-classifying it as \"ham\") rather than false positives (putting real \"ham\" messages into the junk folder).\n",
    "\n",
    "I would say this tradeoff of higher specificity at the cost of lower sensitivity is exactly what you want for a junk mail filter. If some spam makes it through the filter, they can always just delete it. Whereas if you put an important real message in the junk mail folder, that can really cause problems for the user."
   ]
  }
 ],
 "metadata": {
  "kernelspec": {
   "display_name": "Python 3",
   "language": "python",
   "name": "python3"
  },
  "language_info": {
   "codemirror_mode": {
    "name": "ipython",
    "version": 3
   },
   "file_extension": ".py",
   "mimetype": "text/x-python",
   "name": "python",
   "nbconvert_exporter": "python",
   "pygments_lexer": "ipython3",
   "version": "3.7.1"
  },
  "pycharm": {
   "stem_cell": {
    "cell_type": "raw",
    "metadata": {
     "collapsed": false
    },
    "source": []
   }
  }
 },
 "nbformat": 4,
 "nbformat_minor": 1
}
